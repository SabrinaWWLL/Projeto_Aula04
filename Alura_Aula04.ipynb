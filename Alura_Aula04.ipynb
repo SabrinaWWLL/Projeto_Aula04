{
  "nbformat": 4,
  "nbformat_minor": 0,
  "metadata": {
    "colab": {
      "provenance": [],
      "authorship_tag": "ABX9TyNQsR6luJzY02w8pTPpPrEY",
      "include_colab_link": true
    },
    "kernelspec": {
      "name": "python3",
      "display_name": "Python 3"
    },
    "language_info": {
      "name": "python"
    }
  },
  "cells": [
    {
      "cell_type": "markdown",
      "metadata": {
        "id": "view-in-github",
        "colab_type": "text"
      },
      "source": [
        "<a href=\"https://colab.research.google.com/github/SabrinaWWLL/Projeto_Aula04/blob/main/Alura_Aula04.ipynb\" target=\"_parent\"><img src=\"https://colab.research.google.com/assets/colab-badge.svg\" alt=\"Open In Colab\"/></a>"
      ]
    },
    {
      "cell_type": "code",
      "source": [
        "!pip install -q -U google-generativeai"
      ],
      "metadata": {
        "id": "JZoi77N8yvQ5"
      },
      "execution_count": 1,
      "outputs": []
    },
    {
      "cell_type": "code",
      "source": [
        "#Gerador de sinopse para personagem D&D\n",
        "\n",
        "import random\n",
        "import pprint\n",
        "import google.generativeai as genai\n",
        "from google.colab import userdata\n",
        "import textwrap\n",
        "from IPython.display import display\n",
        "from IPython.display import Markdown\n",
        "\n",
        "api_key = userdata.get('SECRET_KEY')\n",
        "genai.configure(api_key=api_key)\n",
        "\n",
        "classes_disponiveis = [\"Bárbaro\", \"Bardo\", \"Clérigo\", \"Druida\", \"Guerreiro\", \"Monge\", \"Paladino\", \"Patrulheiro\", \"Ladino\", \"Feiticeiro\", \"Bruxo\", \"Mago\"]\n",
        "classes = {\n",
        "    \"leal e bom\": classes_disponiveis,\n",
        "    \"neutro e bom\": classes_disponiveis,\n",
        "    \"caótico e bom\": classes_disponiveis,\n",
        "    \"leal e neutro\": classes_disponiveis,\n",
        "    \"neutro\": classes_disponiveis,\n",
        "    \"caótico e neutro\": classes_disponiveis,\n",
        "    \"leal e mau\": classes_disponiveis,\n",
        "    \"neutro e mau\": classes_disponiveis,\n",
        "    \"caótico e mau\": classes_disponiveis,\n",
        "}\n",
        "racas_disponiveis = [\"Humano\", \"Elfo\", \"Anão\", \"Orc\", \"Tiefling\", \"Goblin\", \"Dragão\"]\n",
        "racas = {\n",
        "    \"leal e bom\": racas_disponiveis,\n",
        "    \"neutro e bom\": racas_disponiveis,\n",
        "    \"caótico e bom\": racas_disponiveis,\n",
        "    \"leal e neutro\": racas_disponiveis,\n",
        "    \"neutro\": racas_disponiveis,\n",
        "    \"caótico e neutro\": racas_disponiveis,\n",
        "    \"leal e mau\": racas_disponiveis,\n",
        "    \"neutro e mau\": racas_disponiveis,\n",
        "    \"caótico e mau\": racas_disponiveis,\n",
        "}\n",
        "\n",
        "# Função para gerar uma classe aleatória\n",
        "def gerar_classe(tipo):\n",
        "    return random.choice(classes[tipo])\n",
        "\n",
        "# Função para gerar uma raça aleatória\n",
        "def gerar_raca(tipo):\n",
        "    return random.choice(racas[tipo])\n",
        "\n",
        "# Função principal para gerar a classe e raça\n",
        "def gerar_personagem(tipo):\n",
        "    classe = gerar_classe(tipo)\n",
        "    raca = gerar_raca(tipo)\n",
        "    return f\"{classe} {raca}\"\n",
        "\n",
        "# Exibição de tendências\n",
        "tendencias = {\n",
        "    \"Leal e bom (Lawful good)\": \"Costuma agir com compaixão e sempre com honra e senso de dever. Cavaleiros e paladinos costumam seguir essa tendência.\",\n",
        "    \"Neutro e bom (Neutral good)\": \"Benfeitor, costuma agir com altruísmo independente das regras e tradições.\",\n",
        "    \"Caótico e bom (Chaotic good)\": \"Rebelde e revolucionário, costuma fazer o necessário para o bem, sem se ater à ordem e à lei.\",\n",
        "    \"Leal e neutro (Lawful neutral)\": \"Juiz e imparcial, é fiel às leis e as cumpre independente da moral e de quem será beneficiado ou prejudicado por isso.\",\n",
        "    \"Neutro (True neutral)\": \"Pragmático e realista, busca o equilíbrio e procura a solução ideal de acordo com as circunstâncias, independente das regras e da moral. Por outro lado, animais e seres sem capacidade de julgamento também seguem essa tendência.\",\n",
        "    \"Caótico e neutro (Chaotic neutral)\": \"Individualista e libertino, segue suas emoções independente das regras e da moral e preza pela total liberdade.\",\n",
        "    \"Leal e mau (Lawful evil)\": \"Tirano e dominador, explora as regras para o seu próprio bem.\",\n",
        "    \"Neutro e mau (Neutral evil)\": \"Mercenário e egoísta, se alia a qualquer lado para atingir seus objetivos.\",\n",
        "    \"Caótico e mau (Chaotic evil)\": \"Hostil e destruidor, faz o mal sem qualquer justificativa.\"\n",
        "}\n",
        "\n",
        "def to_markdown(text):\n",
        "    text = text.replace(\"•\", \" *\")\n",
        "    return Markdown(textwrap.indent(text, \"> \", predicate=lambda _: True))\n",
        "\n",
        "generation_config = {\n",
        "    \"candidate_count\": 1,\n",
        "    \"temperature\": 1,\n",
        "}\n",
        "model = genai.GenerativeModel(model_name='gemini-1.0-pro',\n",
        "                             generation_config=generation_config,)\n",
        "\n",
        "\n",
        "# Looping do código inteiro\n",
        "while True:\n",
        "    # Exibição de tendências\n",
        "    for tendencia, descricao in tendencias.items():\n",
        "        display(to_markdown(f\"**{tendencia}:** {descricao}\"))\n",
        "\n",
        "    # Input do usuário\n",
        "    tipo = input(\"Escolha o caráter do seu personagem, baseado na lista acima: \")\n",
        "    tipo = tipo.strip().lower()\n",
        "\n",
        "    #Reiniciar o chat a cada interação\n",
        "    chat = model.start_chat(history=[])\n",
        "\n",
        "    # Gerar o personagem\n",
        "    personagem = gerar_personagem(tipo)\n",
        "\n",
        "    # Imprimir o resultado do personagem gerado\n",
        "    print(f\"\\nPersonagem Gerado: {personagem}\\n\")\n",
        "\n",
        "    response = chat.send_message(f\"Baseado no {personagem}, em seu alinhamento {tipo} e o jogo de tabuleiro D&D, aqui está a sinopse de sua história:\")\n",
        "\n",
        "    # Imprimir a resposta\n",
        "    for message in chat.history:\n",
        "        display(to_markdown(f\"{message.parts[0].text}\"))\n",
        "        print(\"_\"*80)\n",
        "\n",
        "    # Perguntar se o usuário quer gerar outro personagem\n",
        "    continuar = input(\"Deseja gerar outro personagem? (s/n): \")\n",
        "    if continuar.lower() != 's':\n",
        "        break"
      ],
      "metadata": {
        "id": "riE61Z3AzBZK"
      },
      "execution_count": null,
      "outputs": []
    }
  ]
}